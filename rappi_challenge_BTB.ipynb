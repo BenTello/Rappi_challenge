{
 "cells": [
  {
   "cell_type": "markdown",
   "metadata": {},
   "source": [
    "# Caso de negocio Rappi: Detección de Fraude\n",
    "Autor: Benjamín Tello. Fecha: 09/10/2022"
   ]
  },
  {
   "cell_type": "markdown",
   "metadata": {},
   "source": [
    "Esta notebook se divide en tres partes. En la parte (1) hacemos un análisis exploratorio de los datos. En la parte (2) clasificamos a los clientes de acuerdo con un score que definimos como la razón entre el total de sus gastos al mes y su límite de crédito, y discutimos las implicaciones para el negocio. En la parte (3) desarrollamos y validamos un modelo Random Forest para la detección de fraude."
   ]
  },
  {
   "cell_type": "code",
   "execution_count": 1,
   "metadata": {},
   "outputs": [],
   "source": [
    "#Importamos librerias\n",
    "import pandas as pd\n",
    "import numpy as np\n",
    "import ast\n",
    "import matplotlib.pyplot as plt"
   ]
  },
  {
   "cell_type": "code",
   "execution_count": 2,
   "metadata": {},
   "outputs": [],
   "source": [
    "# Poner aqui la ruta del archivo \"ds_challenge_data_2022.csv\"\n",
    "csv_path = \"ds_challenge_data_2022.csv\"\n",
    "\n",
    "# Leer el CSV en un Pandas DataFrame\n",
    "rappi_df = pd.read_csv(csv_path)\n",
    "\n",
    "#Ponemos el no. de transacción como indice del data frame\n",
    "rappi_df=rappi_df.set_index(\"transaction_id\")\n",
    "\n",
    "#Tiramos las observaciones en las que monto==1, ya que no son transacciones relevantes sino solo de comprobación.\n",
    "rappi_df=rappi_df[rappi_df[\"monto\"]>1]\n"
   ]
  },
  {
   "cell_type": "code",
   "execution_count": 3,
   "metadata": {},
   "outputs": [],
   "source": [
    "# Desempacamos el diccionario con información de los dispositivos mobiles\n",
    "\n",
    "df = rappi_df[\"dispositivo\"].astype('str')\n",
    "df = df.apply(lambda x: ast.literal_eval(x))\n",
    "df = df.apply(pd.Series)"
   ]
  },
  {
   "cell_type": "code",
   "execution_count": 4,
   "metadata": {},
   "outputs": [],
   "source": [
    "#Juntamos la información de dispositivos moviles con el resto del data set\n",
    "rappi_df = rappi_df.merge(df, on=\"transaction_id\")\n",
    "rappi_df=rappi_df.drop('dispositivo', axis=1)\n",
    "#rappi_df.head()"
   ]
  },
  {
   "cell_type": "markdown",
   "metadata": {},
   "source": [
    "# 1. Exploración y análisis de los datos"
   ]
  },
  {
   "cell_type": "code",
   "execution_count": 5,
   "metadata": {},
   "outputs": [
    {
     "name": "stdout",
     "output_type": "stream",
     "text": [
      "              monto      cashback      linea_tc    interes_tc          dcto\n",
      "count  25719.000000  25719.000000  25719.000000  25719.000000  25719.000000\n",
      "mean     538.839130     17.749426  62485.166608     48.242389      5.631154\n",
      "std      273.763036     10.481262  21887.326521      9.588657     12.561238\n",
      "min        1.050000      0.030000  25000.000000     32.000000      0.000000\n",
      "25%      332.965000     10.500000  44000.000000     40.000000      0.000000\n",
      "50%      524.170000     16.500000  63000.000000     49.000000      0.000000\n",
      "75%      727.140000     23.240000  82000.000000     57.000000      0.000000\n",
      "max     1712.700000    109.730000  99000.000000     64.000000     85.640000\n"
     ]
    }
   ],
   "source": [
    "#Obtenemos estadíticas descriptivas de las variables numéricas\n",
    "print(rappi_df[[ \"monto\",\"cashback\", \"linea_tc\", \"interes_tc\",\"dcto\",]].describe())"
   ]
  },
  {
   "cell_type": "code",
   "execution_count": 6,
   "metadata": {
    "scrolled": false
   },
   "outputs": [
    {
     "data": {
      "image/png": "[encoded data removed]",
      "text/plain": [
       "<Figure size 432x288 with 4 Axes>"
      ]
     },
     "metadata": {
      "needs_background": "light"
     },
     "output_type": "display_data"
    }
   ],
   "source": [
    "#Analizamos la distribución de las transacciones en nuestra base de datos de acuerdo con \n",
    "#el monto, cashback, interes y hora de la transacción.\n",
    "\n",
    "#Histogramas\n",
    "fig, ax = plt.subplots(2,2)\n",
    "\n",
    "ax[0,0].hist(rappi_df[\"monto\"], bins=30, color=\"blue\", alpha=0.8)\n",
    "ax[0,0].set(xlabel='Monto')\n",
    "ax[0,1].hist(rappi_df[\"cashback\"], bins=100,color=\"blue\", alpha=0.8)\n",
    "ax[0,1].set(xlabel=\"Cashback\")\n",
    "ax[1,0].hist(rappi_df[\"interes_tc\"], bins=30, color=\"blue\", alpha=0.8)\n",
    "ax[1,0].set(xlabel=\"Interes\")\n",
    "ax[1,1].hist(rappi_df[\"hora\"], bins=24, color=\"blue\", alpha=0.8)\n",
    "ax[1,1].set(xlabel=\"Hora\")\n",
    "\n",
    "\n",
    "#fig.suptitle('Transacciones')\n",
    "fig.tight_layout()\n",
    "plt.show()"
   ]
  },
  {
   "cell_type": "code",
   "execution_count": 7,
   "metadata": {},
   "outputs": [
    {
     "name": "stdout",
     "output_type": "stream",
     "text": [
      "             monto    cashback      linea_tc  interes_tc        dcto\n",
      "count   776.000000  776.000000    776.000000  776.000000  776.000000\n",
      "mean    604.281186   24.578093  62297.680412   48.039948    6.662371\n",
      "std     301.740987   16.273429  21653.227006    9.728426   14.307339\n",
      "min       1.050000    0.030000  25000.000000   32.000000    0.000000\n",
      "25%     381.735000   13.377500  44000.000000   39.000000    0.000000\n",
      "50%     593.275000   21.270000  61000.000000   48.000000    0.000000\n",
      "75%     806.282500   31.030000  83000.000000   57.000000    0.000000\n",
      "max    1625.160000  109.730000  99000.000000   64.000000   67.420000\n"
     ]
    }
   ],
   "source": [
    "#Analizamos el comportamiento de las operaciones fraudulentas\n",
    "\n",
    "#Nos quedamos solo con las operaciones fraudulentas\n",
    "rappi_bbb=rappi_df[rappi_df['fraude'] == True]\n",
    "\n",
    "#Obtenemos estadíticas descriptivas de las variables numéricas\n",
    "print(rappi_bbb[[ \"monto\",\"cashback\", \"linea_tc\", \"interes_tc\",\"dcto\",]].describe())"
   ]
  },
  {
   "cell_type": "code",
   "execution_count": 8,
   "metadata": {},
   "outputs": [
    {
     "data": {
      "image/png": "[encoded data removed]",
      "text/plain": [
       "<Figure size 432x288 with 4 Axes>"
      ]
     },
     "metadata": {
      "needs_background": "light"
     },
     "output_type": "display_data"
    }
   ],
   "source": [
    "#Analizamos la distribución de las transacciones FRAUDULENTAS en nuestra base de datos de acuerdo con \n",
    "# monto, cashback, interes y hora de la transacción.\n",
    "\n",
    "fig, ax = plt.subplots(2,2)\n",
    "\n",
    "ax[0,0].hist(rappi_bbb[\"monto\"], bins=10, color=\"blue\", alpha=0.8)\n",
    "ax[0,0].set(xlabel='Monto')\n",
    "ax[0,1].hist(rappi_bbb[\"cashback\"], bins=10,color=\"blue\", alpha=0.8)\n",
    "ax[0,1].set(xlabel=\"Cashback\")\n",
    "ax[1,0].hist(rappi_bbb[\"interes_tc\"], bins=10, color=\"blue\", alpha=0.8)\n",
    "ax[1,0].set(xlabel=\"Interes\")\n",
    "ax[1,1].hist(rappi_bbb[\"hora\"], bins=12, color=\"blue\", alpha=0.8)\n",
    "ax[1,1].set(xlabel=\"Hora\")\n",
    "\n",
    "\n",
    "#fig.suptitle('Transacciones')\n",
    "fig.tight_layout()\n",
    "plt.show()\n",
    "\n"
   ]
  },
  {
   "cell_type": "code",
   "execution_count": 9,
   "metadata": {},
   "outputs": [
    {
     "data": {
      "image/png": "[encoded data removed]",
      "text/plain": [
       "<Figure size 432x288 with 1 Axes>"
      ]
     },
     "metadata": {
      "needs_background": "light"
     },
     "output_type": "display_data"
    }
   ],
   "source": [
    "# Hacemos un gráfico para vizualizar en que horas y montos se cometen más operaciones fraudulentas.\n",
    "\n",
    "fig, ax = plt.subplots()\n",
    "\n",
    "ax.scatter(x = rappi_df[\"monto\"], y = rappi_df[\"hora\"], c = rappi_df[\"fraude\"], cmap=\"tab20c_r\")\n",
    "\n",
    "# Previous customizations\n",
    "#plt.xscale('log') \n",
    "plt.xlabel('Monto')\n",
    "plt.ylabel('Hora')\n",
    "\n",
    "\n",
    "\n",
    "# Show the plot\n",
    "plt.show()"
   ]
  },
  {
   "cell_type": "code",
   "execution_count": 10,
   "metadata": {},
   "outputs": [],
   "source": [
    "#Creamos un data frame donde tiramos las observaciones en los que \"establecimientos\" tiene NA\n",
    "rappi_df_est=rappi_df.dropna(subset=[\"establecimiento\"])\n",
    "\n",
    "#creamos series con los maximos y minimos por establecimiento\n",
    "\n",
    "monto_max=rappi_df_est.groupby(\"establecimiento\")[\"monto\"].max()\n",
    "monto_min=rappi_df_est.groupby(\"establecimiento\")[\"monto\"].min()\n",
    "monto_mean=rappi_df_est.groupby(\"establecimiento\")[\"monto\"].mean()\n",
    "monto_median=rappi_df_est.groupby(\"establecimiento\")[\"monto\"].median()\n"
   ]
  },
  {
   "cell_type": "code",
   "execution_count": 11,
   "metadata": {
    "scrolled": true
   },
   "outputs": [
    {
     "data": {
      "image/png": "[encoded data removed]",
      "text/plain": [
       "<Figure size 432x288 with 1 Axes>"
      ]
     },
     "metadata": {
      "needs_background": "light"
     },
     "output_type": "display_data"
    }
   ],
   "source": [
    "#Creamos Barplot de fraude por establecimiento \n",
    "\n",
    "fraude_est=rappi_df_est.groupby(\"establecimiento\")[\"fraude\"].mean().sort_values()\n",
    "\n",
    "#Barplots de los montos promedio y mediano por establecimiento\n",
    "fig, ax = plt.subplots()\n",
    "ax.set_title(\"Porcentaje de transacciones fraudulentas por establecimiento\")\n",
    "\n",
    "ax.barh(fraude_est.index, fraude_est.values*100, color=\"red\", alpha=0.8)\n",
    "ax.set(xlabel=\"Por ciento\")\n",
    "plt.show()\n"
   ]
  },
  {
   "cell_type": "markdown",
   "metadata": {},
   "source": [
    "# 2. Categorización de los clientes en el dataset "
   ]
  },
  {
   "cell_type": "markdown",
   "metadata": {},
   "source": [
    "Generamos un score para cada cliente (score_cliente) como la razón del total de sus transacciones en el mes a su línea de crédito.\n",
    "\n",
    "Este score nos indica lo siguiente:\n",
    "\n",
    "-Los que tienen un score_cliente bajo son clientes que estan gastando poco con su tarjeta en relación a su linea de crédito. A este tipo de clientes se debe incentivarlos a usar más su tarjeta.\n",
    "\n",
    "-Para los clientes con un score_cliente elevado se debe vigilar su capacidad de pago o quizá ofrecerles una linea de crédito mayor.\n"
   ]
  },
  {
   "cell_type": "code",
   "execution_count": 12,
   "metadata": {},
   "outputs": [],
   "source": [
    "#Con group by creamos 2 series. Una con la suma de las transacciones, otra con el limite de la linea de credito\n",
    "#Generamos un score para cada cliente que es la razón del total de sus transacciones al mes entre su linea de crédito.\n",
    "\n",
    "compras=rappi_df.groupby(\"user_id\")[\"monto\"].sum()\n",
    "limite=rappi_df.groupby(\"user_id\")[\"linea_tc\"].mean()\n",
    "score_cliente=compras/limite\n"
   ]
  },
  {
   "cell_type": "code",
   "execution_count": 13,
   "metadata": {
    "scrolled": true
   },
   "outputs": [
    {
     "data": {
      "image/png": "[encoded data removed]",
      "text/plain": [
       "<Figure size 432x288 with 1 Axes>"
      ]
     },
     "metadata": {
      "needs_background": "light"
     },
     "output_type": "display_data"
    }
   ],
   "source": [
    "#Distribución del score_cliente\n",
    "fig, ax = plt.subplots()\n",
    "ax.hist(score_cliente, bins=30, color=\"green\", alpha=0.7)\n",
    "ax.set_title(\"Distribución del score_cliente\")\n",
    "ax.set_xlim(right=0.5)\n",
    "\n",
    "plt.show()"
   ]
  },
  {
   "cell_type": "markdown",
   "metadata": {},
   "source": [
    "-Por lo que se aprecia en el histograma, se debe incentivar el uso de la TC en un amplio segmento de los clientes. Adicionalmente no parece haber riesgos grandes para el banco de que una masa crítica de clientes no pague."
   ]
  },
  {
   "cell_type": "markdown",
   "metadata": {},
   "source": [
    "# 3. Modelo para detectar transacciones fraudulentas"
   ]
  },
  {
   "cell_type": "markdown",
   "metadata": {},
   "source": [
    "Vamos a entrenar un Random Forest para detectar defraudadores.\n",
    "\n",
    "Primero preparamos los datos para alimentar el RF. \n",
    "\n",
    "A partir del Data Frame (DF) \"rappi_df_est\" iremos construyendo el DF \"rappi_rf\" que alimentará al RF."
   ]
  },
  {
   "cell_type": "code",
   "execution_count": 14,
   "metadata": {},
   "outputs": [],
   "source": [
    "#Nuevo data frame solo con varibales numericas\n",
    "\n",
    "rappi_rf = rappi_df_est[[\"user_id\",\"linea_tc\", \"interes_tc\", \"monto\", \"dcto\", \"cashback\", \"hora\", \"año\"]]"
   ]
  },
  {
   "cell_type": "markdown",
   "metadata": {},
   "source": [
    "Codificamos variables categóricas para sexo, tipo de establecimiento, ciudades, is_prime, caracteristicas del dispositivo movil y fraude.\n",
    "Incluimos dichas variables en el DF \"rappi_rf\""
   ]
  },
  {
   "cell_type": "code",
   "execution_count": 15,
   "metadata": {},
   "outputs": [],
   "source": [
    "#Codificamos la variable sexo\n",
    "\n",
    "rappi_df_est=rappi_df_est[rappi_df_est[\"género\"]!=\"N\"]\n",
    "sex = pd.get_dummies(rappi_df_est['género'])\n",
    "sex=sex[\"F\"]\n",
    "rappi_rf = rappi_rf.merge(sex, on=\"transaction_id\")"
   ]
  },
  {
   "cell_type": "code",
   "execution_count": 16,
   "metadata": {},
   "outputs": [],
   "source": [
    "#Codificamos la variable establecimiento\n",
    "\n",
    "est = pd.get_dummies(rappi_df_est['establecimiento'])\n",
    "est=est.drop('Abarrotes', axis=1)\n",
    "rappi_rf = rappi_rf.merge(est, on=\"transaction_id\")"
   ]
  },
  {
   "cell_type": "code",
   "execution_count": 17,
   "metadata": {},
   "outputs": [],
   "source": [
    "#Codificamos la variable marca\n",
    "#año marca proveedor\n",
    "marca = pd.get_dummies(rappi_df_est['marca'])\n",
    "marca=marca.drop('Huawei', axis=1)\n",
    "rappi_rf = rappi_rf.merge(marca, on=\"transaction_id\")"
   ]
  },
  {
   "cell_type": "code",
   "execution_count": 18,
   "metadata": {},
   "outputs": [],
   "source": [
    "#Codificamos la variable proveedor\n",
    "\n",
    "proveedor = pd.get_dummies(rappi_df_est['proveedor'])\n",
    "proveedor=proveedor.drop('ATT', axis=1)\n",
    "rappi_rf = rappi_rf.merge(proveedor, on=\"transaction_id\")"
   ]
  },
  {
   "cell_type": "code",
   "execution_count": 19,
   "metadata": {},
   "outputs": [],
   "source": [
    "#Codificamos la variable ciudad\n",
    "\n",
    "citi = pd.get_dummies(rappi_df_est['ciudad'])\n",
    "citi=citi.drop('Cancún', axis=1)\n",
    "rappi_rf = rappi_rf.merge(citi, on=\"transaction_id\")\n",
    "\n",
    "#Crear una variable que indique que dos transacciones se hicieron el mismo dia en distintas ciudades"
   ]
  },
  {
   "cell_type": "code",
   "execution_count": 20,
   "metadata": {},
   "outputs": [],
   "source": [
    "#Codificamos la variable is_prime\n",
    "\n",
    "prime = pd.get_dummies(rappi_df_est['is_prime'])\n",
    "prime=prime.drop(False, axis=1)\n",
    "prime=prime.rename(columns={True:\"prime\"})\n",
    "rappi_rf = rappi_rf.merge(prime, on=\"transaction_id\")\n",
    "#rappi_rf.head()"
   ]
  },
  {
   "cell_type": "code",
   "execution_count": 21,
   "metadata": {},
   "outputs": [],
   "source": [
    "#Codificamos la variable fraude\n",
    "\n",
    "fraude = pd.get_dummies(rappi_df_est['fraude'])\n",
    "fraude=fraude.drop(False, axis=1)\n",
    "fraude=fraude.rename(columns={True:\"fraude\"})\n",
    "rappi_rf = rappi_rf.merge(fraude, on=\"transaction_id\")"
   ]
  },
  {
   "cell_type": "code",
   "execution_count": 40,
   "metadata": {},
   "outputs": [
    {
     "name": "stdout",
     "output_type": "stream",
     "text": [
      "Features\n"
     ]
    },
    {
     "data": {
      "text/plain": [
       "Index(['user_id', 'linea_tc', 'interes_tc', 'monto', 'dcto', 'cashback',\n",
       "       'hora', 'año', 'F', 'Compra en línea', 'Farmacia', 'Supermercado',\n",
       "       'Tienda departamental', 'Apple', 'Motorola', 'Samsung', 'Movistar',\n",
       "       'Telcel', 'Ciudad de México', 'Guadalajara', 'Monterrey',\n",
       "       'Nezahualcóyotl', 'Tijuana', 'Toluca', 'prime', 'fraude'],\n",
       "      dtype='object')"
      ]
     },
     "execution_count": 40,
     "metadata": {},
     "output_type": "execute_result"
    }
   ],
   "source": [
    "print( \"Features\") \n",
    "rappi_rf.columns"
   ]
  },
  {
   "cell_type": "markdown",
   "metadata": {},
   "source": [
    "# 3.1 Primero vamos a calcular la Accuracy Natural. Es decir, la Accuracy que tendriamos si predijeramos todas las transacciones como legitimas\n"
   ]
  },
  {
   "cell_type": "code",
   "execution_count": 23,
   "metadata": {},
   "outputs": [],
   "source": [
    "# Creamos matrices para las características y la variable respuesta\n",
    "\n",
    "y = rappi_rf['fraude'].values\n",
    "X = rappi_rf.drop(['fraude', \"user_id\"], axis=1).values"
   ]
  },
  {
   "cell_type": "code",
   "execution_count": 24,
   "metadata": {},
   "outputs": [
    {
     "name": "stdout",
     "output_type": "stream",
     "text": [
      "96.86401079050052\n"
     ]
    }
   ],
   "source": [
    "# Contamos el número total de observaciones de y\n",
    "total_obs = len(y)\n",
    "\n",
    "# Contamos el número total de observaciones no fraudulentas \n",
    "non_fraud = [i for i in y if i == 0]\n",
    "count_non_fraud = non_fraud.count(0)\n",
    "\n",
    "# Calculamos el porcentaje de observaciones no fraudulentas en el conjunto de datos\n",
    "percentage = (float(count_non_fraud)/float(total_obs)) * 100\n",
    "\n",
    "# Imprimimos el porcentaje: esta es nuestra \"precisión natural\" al no hacer nada\n",
    "print(percentage)"
   ]
  },
  {
   "cell_type": "markdown",
   "metadata": {},
   "source": [
    "# 3.2 Random Forest Classifier "
   ]
  },
  {
   "cell_type": "code",
   "execution_count": 25,
   "metadata": {},
   "outputs": [],
   "source": [
    "# Importamos los modulos necesarios\n",
    "from sklearn.ensemble import RandomForestClassifier\n",
    "from sklearn.model_selection import train_test_split\n",
    "from sklearn.model_selection import cross_val_score\n",
    "from sklearn.metrics import classification_report, confusion_matrix, plot_roc_curve, auc\n",
    "from sklearn import metrics "
   ]
  },
  {
   "cell_type": "code",
   "execution_count": 26,
   "metadata": {},
   "outputs": [
    {
     "data": {
      "text/plain": [
       "RandomForestClassifier(n_estimators=15, random_state=5)"
      ]
     },
     "execution_count": 26,
     "metadata": {},
     "output_type": "execute_result"
    }
   ],
   "source": [
    "# Partimos los datos en training y test set. \n",
    "\n",
    "#Estratificamos la variable \"y\" puesto que la proporción de fraudes \n",
    "#en la muestra total es muy pequeña y deseamos conservar esa proporción en los train y test set.\n",
    "\n",
    "X_train, X_test, y_train, y_test = train_test_split(X, y, test_size = 0.2, random_state=42, stratify=y)\n",
    "\n",
    "# Definimos un modelo Random Forest\n",
    "model = RandomForestClassifier(n_estimators = 15, random_state=5)\n",
    "# Entrenamos el modelo \n",
    "model.fit(X_train, y_train)"
   ]
  },
  {
   "cell_type": "markdown",
   "metadata": {},
   "source": [
    "Hacemos Cross validation del RF.\n",
    "\n",
    "Calculamos \"Accuracy\" con 5-fold cross-validation y comparamos este nivel de \"Accuracy\" con el \"Accuracy natural\"."
   ]
  },
  {
   "cell_type": "code",
   "execution_count": 27,
   "metadata": {},
   "outputs": [
    {
     "name": "stdout",
     "output_type": "stream",
     "text": [
      "[0.96868979 0.96844894 0.96893064 0.96844894 0.96844134]\n",
      "Average 10-Fold CV Accuracy: 96.85919287735759\n"
     ]
    }
   ],
   "source": [
    "# hacemos 5-fold cross-validation scores: cv_scores\n",
    "cv_scores = cross_val_score(model, X, y, cv=5)\n",
    "\n",
    "# Imprimimos los 5-fold cross-validation scores\n",
    "print(cv_scores)\n",
    "\n",
    "# Promedio de los 5-fold cross-validation score\n",
    "print(\"Average 10-Fold CV Accuracy: {}\".format(np.mean(cv_scores)*100))\n"
   ]
  },
  {
   "cell_type": "markdown",
   "metadata": {},
   "source": [
    "En terminos de \"Accuracy\", nuestro RF no es mejor que clasificar todas las transacciones como no-fraudulentas. \n",
    "\n",
    "Sin embargo, en en este contexto, nos interesa atrapar el mayor número de casos de fraude posible, para eso debemos conseguir el mejor Recall. A continuación vemos que el recall para la etiqueta de fraude es 0.01. Con este modelo solo fuimos capaces de identificar una transaccion fraudulenta del total de 130 transacciones fraudulentas en el Test Set."
   ]
  },
  {
   "cell_type": "code",
   "execution_count": 28,
   "metadata": {},
   "outputs": [
    {
     "name": "stdout",
     "output_type": "stream",
     "text": [
      "              precision    recall  f1-score   support\n",
      "\n",
      "           0       0.97      1.00      0.98      4022\n",
      "           1       1.00      0.02      0.03       130\n",
      "\n",
      "    accuracy                           0.97      4152\n",
      "   macro avg       0.98      0.51      0.51      4152\n",
      "weighted avg       0.97      0.97      0.95      4152\n",
      "\n",
      "[[4022    0]\n",
      " [ 128    2]]\n"
     ]
    }
   ],
   "source": [
    "# Obtenemos predicciones con el test data\n",
    "predicted = model.predict(X_test)\n",
    "\n",
    "# imprimimos el classification report y la  confusion matrix\n",
    "print(classification_report(y_test, predicted))\n",
    "print(confusion_matrix(y_test, predicted))"
   ]
  },
  {
   "cell_type": "markdown",
   "metadata": {},
   "source": [
    "# 3.3 GridSearchCV para encontrar los parametros óptimos"
   ]
  },
  {
   "cell_type": "markdown",
   "metadata": {},
   "source": [
    "Dado que nos interesa, principalmente, atrapar el mayor número de casos de fraude posible, vamos a optimizar la configuración del Random Forest para obtener la mejor puntuación de Recall posible."
   ]
  },
  {
   "cell_type": "code",
   "execution_count": 29,
   "metadata": {},
   "outputs": [
    {
     "data": {
      "text/plain": [
       "{'criterion': 'entropy',\n",
       " 'max_depth': 14,\n",
       " 'max_features': 'auto',\n",
       " 'n_estimators': 1}"
      ]
     },
     "execution_count": 29,
     "metadata": {},
     "output_type": "execute_result"
    }
   ],
   "source": [
    "from sklearn.model_selection import GridSearchCV\n",
    "\n",
    "# Definimos los conjuntos de parámetros que vamos a probar\n",
    "param_grid = {'n_estimators': [1, 10], 'max_features': ['auto', 'log2'], 'max_depth': [4, 14], 'criterion': ['gini', 'entropy']\n",
    "}\n",
    "\n",
    "#Definimos el modelo Random Forest\n",
    "model_star = RandomForestClassifier(random_state=5)\n",
    "\n",
    "#Combinamos el conjunto de parámetros elegido con el RF que acabamos de elegir, usamos CV=10.\n",
    "CV_model = GridSearchCV(estimator=model_star, param_grid=param_grid, cv=10, scoring='recall', n_jobs=-1)\n",
    "\n",
    "#Entrenamos el modelo y obtenemos los mejores parámetros\n",
    "CV_model.fit(X_train, y_train)\n",
    "CV_model.best_params_"
   ]
  },
  {
   "cell_type": "code",
   "execution_count": 30,
   "metadata": {
    "scrolled": true
   },
   "outputs": [
    {
     "name": "stdout",
     "output_type": "stream",
     "text": [
      "              precision    recall  f1-score   support\n",
      "\n",
      "           0       0.97      0.88      0.93      4022\n",
      "           1       0.06      0.22      0.09       130\n",
      "\n",
      "    accuracy                           0.86      4152\n",
      "   macro avg       0.51      0.55      0.51      4152\n",
      "weighted avg       0.94      0.86      0.90      4152\n",
      "\n",
      "[[3558  464]\n",
      " [ 102   28]]\n"
     ]
    }
   ],
   "source": [
    "# Metemos los parametros óptimos encontrados\n",
    "model_star = RandomForestClassifier(class_weight={0:1,1:12}, criterion='gini', max_depth=14,\n",
    "                                    max_features='auto', min_samples_leaf=10, n_estimators=1, n_jobs=-1, random_state=5)\n",
    "model_star.fit(X_train, y_train)\n",
    "\n",
    "# Obtenemos predicciones con el test data\n",
    "predicted = model_star.predict(X_test)\n",
    "\n",
    "# Imprimimos el classification report y la  confusion matrix\n",
    "print(classification_report(y_test, predicted))\n",
    "print(confusion_matrix(y_test, predicted))\n",
    "\n"
   ]
  },
  {
   "cell_type": "markdown",
   "metadata": {},
   "source": [
    "Recall = TP/(TP+FN) = 28/(28+102) = .22. Es decir,  capturamos 28 de las 130 operaciones fraudulentas en el Test Set. La busqueda óptima de parámetros permitió mejorar mucho el Recall."
   ]
  },
  {
   "cell_type": "code",
   "execution_count": 31,
   "metadata": {},
   "outputs": [
    {
     "data": {
      "text/plain": [
       "<sklearn.metrics._plot.roc_curve.RocCurveDisplay at 0x2082e58ab50>"
      ]
     },
     "execution_count": 31,
     "metadata": {},
     "output_type": "execute_result"
    },
    {
     "data": {
      "image/png": "[encoded data removed]",
      "text/plain": [
       "<Figure size 432x288 with 1 Axes>"
      ]
     },
     "metadata": {
      "needs_background": "light"
     },
     "output_type": "display_data"
    }
   ],
   "source": [
    "#CURVA ROC y AUC\n",
    "\n",
    "plot_roc_curve(model_star, X_test, y_test)\n"
   ]
  },
  {
   "cell_type": "code",
   "execution_count": 32,
   "metadata": {},
   "outputs": [
    {
     "data": {
      "image/png": "[encoded data removed]",
      "text/plain": [
       "<Figure size 432x288 with 1 Axes>"
      ]
     },
     "metadata": {
      "needs_background": "light"
     },
     "output_type": "display_data"
    }
   ],
   "source": [
    "#Feature importance\n",
    "\n",
    "# Create a pd.Series of features importances\n",
    "importances = pd.Series(data=model_star.feature_importances_)\n",
    "\n",
    "# Sort importances\n",
    "importances_sorted = importances.sort_values()\n",
    "\n",
    "# Draw barplot of importances_sorted\n",
    "importances_sorted.plot(kind='barh', color='lightgreen')\n",
    "plt.title('Features Importances')\n",
    "plt.show()"
   ]
  },
  {
   "cell_type": "code",
   "execution_count": null,
   "metadata": {},
   "outputs": [],
   "source": []
  }
 ],
 "metadata": {
  "kernelspec": {
   "display_name": "Python 3",
   "language": "python",
   "name": "python3"
  },
  "language_info": {
   "codemirror_mode": {
    "name": "ipython",
    "version": 3
   },
   "file_extension": ".py",
   "mimetype": "text/x-python",
   "name": "python",
   "nbconvert_exporter": "python",
   "pygments_lexer": "ipython3",
   "version": "3.8.8"
  }
 },
 "nbformat": 4,
 "nbformat_minor": 2
}
